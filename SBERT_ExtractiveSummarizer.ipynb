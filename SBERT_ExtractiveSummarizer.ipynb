{
 "cells": [
  {
   "cell_type": "markdown",
   "id": "2ef0d7c3",
   "metadata": {},
   "source": [
    "# SBERT ExtractiveSummarizer\n",
    "\n",
    "The Notebook is broken down into sentences and embedded by SentenceTransformers. Then, compute the cosine similarity across all possible sentence combinations.\n",
    "LexRank to find the most central sentences in the document. These central sentences form a good basis for a summarization of the document.\n",
    "\n",
    "\n",
    "Refer : https://www.sbert.net/examples/applications/text-summarization/README.html"
   ]
  },
  {
   "cell_type": "code",
   "execution_count": 10,
   "id": "51228e8d",
   "metadata": {},
   "outputs": [],
   "source": [
    "import nltk\n",
    "from sentence_transformers import SentenceTransformer, util\n",
    "import numpy as np\n",
    "\n",
    "\n",
    "model = SentenceTransformer('all-MiniLM-L6-v2',cache_folder=\"/data/1/jupyter/cache\")"
   ]
  },
  {
   "cell_type": "code",
   "execution_count": 12,
   "id": "296a85e7",
   "metadata": {},
   "outputs": [],
   "source": [
    "document=\"\"\"The Indian independence movement was a series of historic events with the ultimate aim of ending British rule in India. It lasted from 1857 to 1947.\n",
    "\n",
    "The first nationalistic revolutionary movement for Indian independence emerged from Bengal. It later took root in the newly formed Indian National Congress with prominent moderate leaders seeking the right to appear for Indian Civil Service examinations in British India, as well as more economic rights for natives. The first half of the 20th century saw a more radical approach towards self-rule by the Lal Bal Pal triumvirate, Aurobindo Ghosh and V. O. Chidambaram Pillai.\n",
    "\n",
    "The final stages of the independence struggle from the 1920s was characterized by Congress' adoption of Mahatma Gandhi's policy of non-violence and civil disobedience. Intellectuals such as Rabindranath Tagore, Subramania Bharati, and Bankim Chandra Chattopadhyay spread patriotic awareness. Female leaders like Sarojini Naidu, Pritilata Waddedar, and Kasturba Gandhi promoted the emancipation of Indian women and their participation in the freedom struggle.\n",
    "\n",
    "Few leaders followed a more violent approach. This became especially popular after the Rowlatt Act, which permitted indefinite detention. The Act sparked protests across India, especially in the Punjab province, where they were violently suppressed in the Jallianwala Bagh massacre.\"\"\"\n"
   ]
  },
  {
   "cell_type": "code",
   "execution_count": 13,
   "id": "4ca520a2",
   "metadata": {},
   "outputs": [
    {
     "name": "stdout",
     "output_type": "stream",
     "text": [
      "Num sentences: 11\n"
     ]
    }
   ],
   "source": [
    "#Split the document into sentences\n",
    "sentences = nltk.sent_tokenize(document)\n",
    "print(\"Num sentences:\", len(sentences))"
   ]
  },
  {
   "cell_type": "code",
   "execution_count": 14,
   "id": "e3d534b3",
   "metadata": {},
   "outputs": [],
   "source": [
    "#Compute the sentence embeddings\n",
    "embeddings = model.encode(sentences, convert_to_tensor=True)"
   ]
  },
  {
   "cell_type": "code",
   "execution_count": 16,
   "id": "e3476314",
   "metadata": {},
   "outputs": [],
   "source": [
    "#Compute the pair-wise cosine similarities\n",
    "cos_scores = util.cos_sim(embeddings.cpu(), embeddings.cpu()).numpy()"
   ]
  },
  {
   "cell_type": "code",
   "execution_count": 18,
   "id": "fec2cfd1",
   "metadata": {},
   "outputs": [],
   "source": [
    "#Compute the centrality for each sentence\n",
    "\n",
    "import numpy as np\n",
    "from scipy.sparse.csgraph import connected_components\n",
    "from scipy.special import softmax\n",
    "\n",
    "\n",
    "def degree_centrality_scores(\n",
    "    similarity_matrix,\n",
    "    threshold=None,\n",
    "    increase_power=True,\n",
    "):\n",
    "    if not (\n",
    "        threshold is None\n",
    "        or isinstance(threshold, float)\n",
    "        and 0 <= threshold < 1\n",
    "    ):\n",
    "        raise ValueError(\n",
    "            '\\'threshold\\' should be a floating-point number '\n",
    "            'from the interval [0, 1) or None',\n",
    "        )\n",
    "\n",
    "    if threshold is None:\n",
    "        markov_matrix = create_markov_matrix(similarity_matrix)\n",
    "\n",
    "    else:\n",
    "        markov_matrix = create_markov_matrix_discrete(\n",
    "            similarity_matrix,\n",
    "            threshold,\n",
    "        )\n",
    "\n",
    "    scores = stationary_distribution(\n",
    "        markov_matrix,\n",
    "        increase_power=increase_power,\n",
    "        normalized=False,\n",
    "    )\n",
    "\n",
    "    return scores\n",
    "\n",
    "\n",
    "def _power_method(transition_matrix, increase_power=True, max_iter=10000):\n",
    "    eigenvector = np.ones(len(transition_matrix))\n",
    "\n",
    "    if len(eigenvector) == 1:\n",
    "        return eigenvector\n",
    "\n",
    "    transition = transition_matrix.transpose()\n",
    "\n",
    "    for _ in range(max_iter):\n",
    "        eigenvector_next = np.dot(transition, eigenvector)\n",
    "\n",
    "        if np.allclose(eigenvector_next, eigenvector):\n",
    "            return eigenvector_next\n",
    "\n",
    "        eigenvector = eigenvector_next\n",
    "\n",
    "        if increase_power:\n",
    "            transition = np.dot(transition, transition)\n",
    "\n",
    "    logger.warning(\"Maximum number of iterations for power method exceeded without convergence!\")\n",
    "    return eigenvector_next\n",
    "\n",
    "\n",
    "def connected_nodes(matrix):\n",
    "    _, labels = connected_components(matrix)\n",
    "\n",
    "    groups = []\n",
    "\n",
    "    for tag in np.unique(labels):\n",
    "        group = np.where(labels == tag)[0]\n",
    "        groups.append(group)\n",
    "\n",
    "    return groups\n",
    "\n",
    "\n",
    "def create_markov_matrix(weights_matrix):\n",
    "    n_1, n_2 = weights_matrix.shape\n",
    "    if n_1 != n_2:\n",
    "        raise ValueError('\\'weights_matrix\\' should be square')\n",
    "\n",
    "    row_sum = weights_matrix.sum(axis=1, keepdims=True)\n",
    "\n",
    "    # normalize probability distribution differently if we have negative transition values\n",
    "    if np.min(weights_matrix) <= 0:\n",
    "        return softmax(weights_matrix, axis=1)\n",
    "\n",
    "    return weights_matrix / row_sum\n",
    "\n",
    "\n",
    "def create_markov_matrix_discrete(weights_matrix, threshold):\n",
    "    discrete_weights_matrix = np.zeros(weights_matrix.shape)\n",
    "    ixs = np.where(weights_matrix >= threshold)\n",
    "    discrete_weights_matrix[ixs] = 1\n",
    "\n",
    "    return create_markov_matrix(discrete_weights_matrix)\n",
    "\n",
    "\n",
    "def stationary_distribution(\n",
    "    transition_matrix,\n",
    "    increase_power=True,\n",
    "    normalized=True,\n",
    "):\n",
    "    n_1, n_2 = transition_matrix.shape\n",
    "    if n_1 != n_2:\n",
    "        raise ValueError('\\'transition_matrix\\' should be square')\n",
    "\n",
    "    distribution = np.zeros(n_1)\n",
    "\n",
    "    grouped_indices = connected_nodes(transition_matrix)\n",
    "\n",
    "    for group in grouped_indices:\n",
    "        t_matrix = transition_matrix[np.ix_(group, group)]\n",
    "        eigenvector = _power_method(t_matrix, increase_power=increase_power)\n",
    "        distribution[group] = eigenvector\n",
    "\n",
    "    if normalized:\n",
    "        distribution /= n_1\n",
    "\n",
    "    return distribution\n",
    "centrality_scores = degree_centrality_scores(cos_scores, threshold=None)"
   ]
  },
  {
   "cell_type": "code",
   "execution_count": 19,
   "id": "6805f765",
   "metadata": {},
   "outputs": [],
   "source": [
    "#We argsort so that the first element is the sentence with the highest score\n",
    "most_central_sentence_indices = np.argsort(-centrality_scores)"
   ]
  },
  {
   "cell_type": "code",
   "execution_count": 21,
   "id": "62bee6cc",
   "metadata": {},
   "outputs": [
    {
     "name": "stdout",
     "output_type": "stream",
     "text": [
      "\n",
      "\n",
      "Summary:\n",
      "The Indian independence movement was a series of historic events with the ultimate aim of ending British rule in India.\n",
      "The final stages of the independence struggle from the 1920s was characterized by Congress' adoption of Mahatma Gandhi's policy of non-violence and civil disobedience.\n",
      "The first nationalistic revolutionary movement for Indian independence emerged from Bengal.\n"
     ]
    }
   ],
   "source": [
    "#Print the 5 sentences with the highest scores\n",
    "print(\"\\n\\nSummary:\")\n",
    "for idx in most_central_sentence_indices[0:3]:\n",
    "    print(sentences[idx].strip())"
   ]
  },
  {
   "cell_type": "code",
   "execution_count": null,
   "id": "d2330614",
   "metadata": {},
   "outputs": [],
   "source": []
  }
 ],
 "metadata": {
  "kernelspec": {
   "display_name": "test_env",
   "language": "python",
   "name": "test_env"
  },
  "language_info": {
   "codemirror_mode": {
    "name": "ipython",
    "version": 3
   },
   "file_extension": ".py",
   "mimetype": "text/x-python",
   "name": "python",
   "nbconvert_exporter": "python",
   "pygments_lexer": "ipython3",
   "version": "3.7.10"
  }
 },
 "nbformat": 4,
 "nbformat_minor": 5
}
